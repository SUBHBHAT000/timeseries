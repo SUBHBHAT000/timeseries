{
 "cells": [
  {
   "cell_type": "markdown",
   "metadata": {},
   "source": [
    "# Pandas Time Series Analysis Part 3: Holidays\n",
    "\n",
    "## Inspired by Dhruv Patel's Code Basics YouTube Channel"
   ]
  },
  {
   "cell_type": "code",
   "execution_count": 1,
   "metadata": {},
   "outputs": [
    {
     "data": {
      "image/jpeg": "[encoded data removed]",
      "text/html": [
       "\n",
       "        <iframe\n",
       "            width=\"400\"\n",
       "            height=\"300\"\n",
       "            src=\"https://www.youtube.com/embed/Fo0IMzfcnQE\"\n",
       "            frameborder=\"0\"\n",
       "            allowfullscreen\n",
       "        ></iframe>\n",
       "        "
      ],
      "text/plain": [
       "<IPython.lib.display.YouTubeVideo at 0x2f0ade36308>"
      ]
     },
     "execution_count": 1,
     "metadata": {},
     "output_type": "execute_result"
    }
   ],
   "source": [
    "from IPython.display import YouTubeVideo\n",
    "\n",
    "# Youtube\n",
    "YouTubeVideo('Fo0IMzfcnQE')"
   ]
  },
  {
   "cell_type": "code",
   "execution_count": 3,
   "metadata": {},
   "outputs": [],
   "source": [
    "import pandas as pd "
   ]
  },
  {
   "cell_type": "code",
   "execution_count": 23,
   "metadata": {},
   "outputs": [
    {
     "data": {
      "text/html": [
       "<div>\n",
       "<style scoped>\n",
       "    .dataframe tbody tr th:only-of-type {\n",
       "        vertical-align: middle;\n",
       "    }\n",
       "\n",
       "    .dataframe tbody tr th {\n",
       "        vertical-align: top;\n",
       "    }\n",
       "\n",
       "    .dataframe thead th {\n",
       "        text-align: right;\n",
       "    }\n",
       "</style>\n",
       "<table border=\"1\" class=\"dataframe\">\n",
       "  <thead>\n",
       "    <tr style=\"text-align: right;\">\n",
       "      <th></th>\n",
       "      <th>Open</th>\n",
       "      <th>High</th>\n",
       "      <th>Low</th>\n",
       "      <th>Close</th>\n",
       "      <th>Adj Close</th>\n",
       "      <th>Volume</th>\n",
       "    </tr>\n",
       "  </thead>\n",
       "  <tbody>\n",
       "    <tr>\n",
       "      <td>0</td>\n",
       "      <td>38.330002</td>\n",
       "      <td>38.740002</td>\n",
       "      <td>38.279999</td>\n",
       "      <td>38.709999</td>\n",
       "      <td>38.548500</td>\n",
       "      <td>900000</td>\n",
       "    </tr>\n",
       "    <tr>\n",
       "      <td>1</td>\n",
       "      <td>38.580002</td>\n",
       "      <td>38.700001</td>\n",
       "      <td>38.150002</td>\n",
       "      <td>38.430000</td>\n",
       "      <td>38.269672</td>\n",
       "      <td>855200</td>\n",
       "    </tr>\n",
       "    <tr>\n",
       "      <td>2</td>\n",
       "      <td>38.560001</td>\n",
       "      <td>38.779999</td>\n",
       "      <td>38.450001</td>\n",
       "      <td>38.720001</td>\n",
       "      <td>38.558460</td>\n",
       "      <td>338600</td>\n",
       "    </tr>\n",
       "    <tr>\n",
       "      <td>3</td>\n",
       "      <td>38.650002</td>\n",
       "      <td>38.650002</td>\n",
       "      <td>38.099998</td>\n",
       "      <td>38.529999</td>\n",
       "      <td>38.369251</td>\n",
       "      <td>502300</td>\n",
       "    </tr>\n",
       "    <tr>\n",
       "      <td>4</td>\n",
       "      <td>38.410000</td>\n",
       "      <td>38.599998</td>\n",
       "      <td>38.049999</td>\n",
       "      <td>38.220001</td>\n",
       "      <td>38.060547</td>\n",
       "      <td>1366400</td>\n",
       "    </tr>\n",
       "  </tbody>\n",
       "</table>\n",
       "</div>"
      ],
      "text/plain": [
       "        Open       High        Low      Close  Adj Close   Volume\n",
       "0  38.330002  38.740002  38.279999  38.709999  38.548500   900000\n",
       "1  38.580002  38.700001  38.150002  38.430000  38.269672   855200\n",
       "2  38.560001  38.779999  38.450001  38.720001  38.558460   338600\n",
       "3  38.650002  38.650002  38.099998  38.529999  38.369251   502300\n",
       "4  38.410000  38.599998  38.049999  38.220001  38.060547  1366400"
      ]
     },
     "execution_count": 23,
     "metadata": {},
     "output_type": "execute_result"
    }
   ],
   "source": [
    "G_stock_price_df = pd.read_csv('G_Stock_Price_Without_Dates.csv')\n",
    "G_stock_price_df.head() "
   ]
  },
  {
   "cell_type": "code",
   "execution_count": 24,
   "metadata": {},
   "outputs": [
    {
     "data": {
      "text/plain": [
       "(22, 6)"
      ]
     },
     "execution_count": 24,
     "metadata": {},
     "output_type": "execute_result"
    }
   ],
   "source": [
    "G_stock_price_df.shape"
   ]
  },
  {
   "cell_type": "markdown",
   "metadata": {},
   "source": [
    "- Creating the date range from 12/31/2018 and 12/27/2019 with frequency as Business Day"
   ]
  },
  {
   "cell_type": "code",
   "execution_count": 26,
   "metadata": {},
   "outputs": [
    {
     "data": {
      "text/plain": [
       "DatetimeIndex(['2019-07-01', '2019-07-02', '2019-07-03', '2019-07-04',\n",
       "               '2019-07-05', '2019-07-08', '2019-07-09', '2019-07-10',\n",
       "               '2019-07-11', '2019-07-12', '2019-07-15', '2019-07-16',\n",
       "               '2019-07-17', '2019-07-18', '2019-07-19', '2019-07-22',\n",
       "               '2019-07-23', '2019-07-24', '2019-07-25', '2019-07-26',\n",
       "               '2019-07-29', '2019-07-30', '2019-07-31'],\n",
       "              dtype='datetime64[ns]', freq='B')"
      ]
     },
     "execution_count": 26,
     "metadata": {},
     "output_type": "execute_result"
    }
   ],
   "source": [
    "dt_range = pd.date_range(start = '2019-07-01', end='2019-07-31', freq='B') \n",
    "dt_range"
   ]
  },
  {
   "cell_type": "markdown",
   "metadata": {},
   "source": [
    "## Note : The date rangd dt_range has length 260 which includes the US Holidays"
   ]
  },
  {
   "cell_type": "markdown",
   "metadata": {},
   "source": [
    "- Creating a date range excluding the US holidays"
   ]
  },
  {
   "cell_type": "code",
   "execution_count": 27,
   "metadata": {},
   "outputs": [],
   "source": [
    "from pandas.tseries.holiday import USFederalHolidayCalendar\n",
    "from pandas.tseries.offsets import CustomBusinessDay"
   ]
  },
  {
   "cell_type": "code",
   "execution_count": 28,
   "metadata": {},
   "outputs": [
    {
     "data": {
      "text/plain": [
       "<CustomBusinessDay>"
      ]
     },
     "execution_count": 28,
     "metadata": {},
     "output_type": "execute_result"
    }
   ],
   "source": [
    "usb = CustomBusinessDay(calendar = USFederalHolidayCalendar())\n",
    "usb "
   ]
  },
  {
   "cell_type": "code",
   "execution_count": 29,
   "metadata": {},
   "outputs": [],
   "source": [
    "# Creating the date range excluding the US Federal Holidays"
   ]
  },
  {
   "cell_type": "code",
   "execution_count": 30,
   "metadata": {},
   "outputs": [
    {
     "data": {
      "text/plain": [
       "DatetimeIndex(['2019-07-01', '2019-07-02', '2019-07-03', '2019-07-05',\n",
       "               '2019-07-08', '2019-07-09', '2019-07-10', '2019-07-11',\n",
       "               '2019-07-12', '2019-07-15', '2019-07-16', '2019-07-17',\n",
       "               '2019-07-18', '2019-07-19', '2019-07-22', '2019-07-23',\n",
       "               '2019-07-24', '2019-07-25', '2019-07-26', '2019-07-29',\n",
       "               '2019-07-30', '2019-07-31'],\n",
       "              dtype='datetime64[ns]', freq='C')"
      ]
     },
     "execution_count": 30,
     "metadata": {},
     "output_type": "execute_result"
    }
   ],
   "source": [
    "dt_range = pd.date_range(start = '2019-07-01', end='2019-07-31', freq=usb) \n",
    "dt_range"
   ]
  },
  {
   "cell_type": "code",
   "execution_count": 31,
   "metadata": {},
   "outputs": [],
   "source": [
    "# Setting the dt_range as the index\n",
    "G_stock_price_df.set_index(dt_range, inplace = True) "
   ]
  },
  {
   "cell_type": "code",
   "execution_count": 32,
   "metadata": {},
   "outputs": [
    {
     "data": {
      "text/html": [
       "<div>\n",
       "<style scoped>\n",
       "    .dataframe tbody tr th:only-of-type {\n",
       "        vertical-align: middle;\n",
       "    }\n",
       "\n",
       "    .dataframe tbody tr th {\n",
       "        vertical-align: top;\n",
       "    }\n",
       "\n",
       "    .dataframe thead th {\n",
       "        text-align: right;\n",
       "    }\n",
       "</style>\n",
       "<table border=\"1\" class=\"dataframe\">\n",
       "  <thead>\n",
       "    <tr style=\"text-align: right;\">\n",
       "      <th></th>\n",
       "      <th>Open</th>\n",
       "      <th>High</th>\n",
       "      <th>Low</th>\n",
       "      <th>Close</th>\n",
       "      <th>Adj Close</th>\n",
       "      <th>Volume</th>\n",
       "    </tr>\n",
       "  </thead>\n",
       "  <tbody>\n",
       "    <tr>\n",
       "      <td>2019-07-01</td>\n",
       "      <td>38.330002</td>\n",
       "      <td>38.740002</td>\n",
       "      <td>38.279999</td>\n",
       "      <td>38.709999</td>\n",
       "      <td>38.548500</td>\n",
       "      <td>900000</td>\n",
       "    </tr>\n",
       "    <tr>\n",
       "      <td>2019-07-02</td>\n",
       "      <td>38.580002</td>\n",
       "      <td>38.700001</td>\n",
       "      <td>38.150002</td>\n",
       "      <td>38.430000</td>\n",
       "      <td>38.269672</td>\n",
       "      <td>855200</td>\n",
       "    </tr>\n",
       "    <tr>\n",
       "      <td>2019-07-03</td>\n",
       "      <td>38.560001</td>\n",
       "      <td>38.779999</td>\n",
       "      <td>38.450001</td>\n",
       "      <td>38.720001</td>\n",
       "      <td>38.558460</td>\n",
       "      <td>338600</td>\n",
       "    </tr>\n",
       "    <tr>\n",
       "      <td>2019-07-05</td>\n",
       "      <td>38.650002</td>\n",
       "      <td>38.650002</td>\n",
       "      <td>38.099998</td>\n",
       "      <td>38.529999</td>\n",
       "      <td>38.369251</td>\n",
       "      <td>502300</td>\n",
       "    </tr>\n",
       "    <tr>\n",
       "      <td>2019-07-08</td>\n",
       "      <td>38.410000</td>\n",
       "      <td>38.599998</td>\n",
       "      <td>38.049999</td>\n",
       "      <td>38.220001</td>\n",
       "      <td>38.060547</td>\n",
       "      <td>1366400</td>\n",
       "    </tr>\n",
       "    <tr>\n",
       "      <td>2019-07-09</td>\n",
       "      <td>38.090000</td>\n",
       "      <td>38.400002</td>\n",
       "      <td>37.950001</td>\n",
       "      <td>38.360001</td>\n",
       "      <td>38.199963</td>\n",
       "      <td>717400</td>\n",
       "    </tr>\n",
       "    <tr>\n",
       "      <td>2019-07-10</td>\n",
       "      <td>38.459999</td>\n",
       "      <td>38.599998</td>\n",
       "      <td>38.349998</td>\n",
       "      <td>38.389999</td>\n",
       "      <td>38.229836</td>\n",
       "      <td>623100</td>\n",
       "    </tr>\n",
       "    <tr>\n",
       "      <td>2019-07-11</td>\n",
       "      <td>38.470001</td>\n",
       "      <td>38.540001</td>\n",
       "      <td>38.240002</td>\n",
       "      <td>38.349998</td>\n",
       "      <td>38.189999</td>\n",
       "      <td>501700</td>\n",
       "    </tr>\n",
       "    <tr>\n",
       "      <td>2019-07-12</td>\n",
       "      <td>38.490002</td>\n",
       "      <td>38.630001</td>\n",
       "      <td>38.009998</td>\n",
       "      <td>38.580002</td>\n",
       "      <td>38.419044</td>\n",
       "      <td>436200</td>\n",
       "    </tr>\n",
       "    <tr>\n",
       "      <td>2019-07-15</td>\n",
       "      <td>38.669998</td>\n",
       "      <td>38.799999</td>\n",
       "      <td>38.389999</td>\n",
       "      <td>38.639999</td>\n",
       "      <td>38.478794</td>\n",
       "      <td>361600</td>\n",
       "    </tr>\n",
       "    <tr>\n",
       "      <td>2019-07-16</td>\n",
       "      <td>38.639999</td>\n",
       "      <td>38.750000</td>\n",
       "      <td>38.240002</td>\n",
       "      <td>38.299999</td>\n",
       "      <td>38.140213</td>\n",
       "      <td>646600</td>\n",
       "    </tr>\n",
       "    <tr>\n",
       "      <td>2019-07-17</td>\n",
       "      <td>38.340000</td>\n",
       "      <td>38.509998</td>\n",
       "      <td>38.119999</td>\n",
       "      <td>38.209999</td>\n",
       "      <td>38.050587</td>\n",
       "      <td>664700</td>\n",
       "    </tr>\n",
       "    <tr>\n",
       "      <td>2019-07-18</td>\n",
       "      <td>38.209999</td>\n",
       "      <td>38.790001</td>\n",
       "      <td>38.200001</td>\n",
       "      <td>38.650002</td>\n",
       "      <td>38.488754</td>\n",
       "      <td>841200</td>\n",
       "    </tr>\n",
       "    <tr>\n",
       "      <td>2019-07-19</td>\n",
       "      <td>38.740002</td>\n",
       "      <td>39.099998</td>\n",
       "      <td>38.490002</td>\n",
       "      <td>38.509998</td>\n",
       "      <td>38.349335</td>\n",
       "      <td>976300</td>\n",
       "    </tr>\n",
       "    <tr>\n",
       "      <td>2019-07-22</td>\n",
       "      <td>38.580002</td>\n",
       "      <td>38.860001</td>\n",
       "      <td>38.430000</td>\n",
       "      <td>38.689999</td>\n",
       "      <td>38.528584</td>\n",
       "      <td>440400</td>\n",
       "    </tr>\n",
       "    <tr>\n",
       "      <td>2019-07-23</td>\n",
       "      <td>38.869999</td>\n",
       "      <td>39.189999</td>\n",
       "      <td>38.529999</td>\n",
       "      <td>39.180000</td>\n",
       "      <td>39.016541</td>\n",
       "      <td>861800</td>\n",
       "    </tr>\n",
       "    <tr>\n",
       "      <td>2019-07-24</td>\n",
       "      <td>39.090000</td>\n",
       "      <td>39.509998</td>\n",
       "      <td>38.779999</td>\n",
       "      <td>39.509998</td>\n",
       "      <td>39.345161</td>\n",
       "      <td>1293800</td>\n",
       "    </tr>\n",
       "    <tr>\n",
       "      <td>2019-07-25</td>\n",
       "      <td>39.770000</td>\n",
       "      <td>40.459999</td>\n",
       "      <td>39.599998</td>\n",
       "      <td>40.349998</td>\n",
       "      <td>40.181660</td>\n",
       "      <td>1909000</td>\n",
       "    </tr>\n",
       "    <tr>\n",
       "      <td>2019-07-26</td>\n",
       "      <td>40.480000</td>\n",
       "      <td>40.750000</td>\n",
       "      <td>39.980000</td>\n",
       "      <td>40.410000</td>\n",
       "      <td>40.241409</td>\n",
       "      <td>1254700</td>\n",
       "    </tr>\n",
       "    <tr>\n",
       "      <td>2019-07-29</td>\n",
       "      <td>40.330002</td>\n",
       "      <td>40.820000</td>\n",
       "      <td>40.090000</td>\n",
       "      <td>40.529999</td>\n",
       "      <td>40.360905</td>\n",
       "      <td>1242800</td>\n",
       "    </tr>\n",
       "    <tr>\n",
       "      <td>2019-07-30</td>\n",
       "      <td>40.299999</td>\n",
       "      <td>40.549999</td>\n",
       "      <td>40.209999</td>\n",
       "      <td>40.330002</td>\n",
       "      <td>40.161743</td>\n",
       "      <td>867400</td>\n",
       "    </tr>\n",
       "    <tr>\n",
       "      <td>2019-07-31</td>\n",
       "      <td>40.340000</td>\n",
       "      <td>40.470001</td>\n",
       "      <td>39.419998</td>\n",
       "      <td>39.680000</td>\n",
       "      <td>39.514454</td>\n",
       "      <td>1148000</td>\n",
       "    </tr>\n",
       "  </tbody>\n",
       "</table>\n",
       "</div>"
      ],
      "text/plain": [
       "                 Open       High        Low      Close  Adj Close   Volume\n",
       "2019-07-01  38.330002  38.740002  38.279999  38.709999  38.548500   900000\n",
       "2019-07-02  38.580002  38.700001  38.150002  38.430000  38.269672   855200\n",
       "2019-07-03  38.560001  38.779999  38.450001  38.720001  38.558460   338600\n",
       "2019-07-05  38.650002  38.650002  38.099998  38.529999  38.369251   502300\n",
       "2019-07-08  38.410000  38.599998  38.049999  38.220001  38.060547  1366400\n",
       "2019-07-09  38.090000  38.400002  37.950001  38.360001  38.199963   717400\n",
       "2019-07-10  38.459999  38.599998  38.349998  38.389999  38.229836   623100\n",
       "2019-07-11  38.470001  38.540001  38.240002  38.349998  38.189999   501700\n",
       "2019-07-12  38.490002  38.630001  38.009998  38.580002  38.419044   436200\n",
       "2019-07-15  38.669998  38.799999  38.389999  38.639999  38.478794   361600\n",
       "2019-07-16  38.639999  38.750000  38.240002  38.299999  38.140213   646600\n",
       "2019-07-17  38.340000  38.509998  38.119999  38.209999  38.050587   664700\n",
       "2019-07-18  38.209999  38.790001  38.200001  38.650002  38.488754   841200\n",
       "2019-07-19  38.740002  39.099998  38.490002  38.509998  38.349335   976300\n",
       "2019-07-22  38.580002  38.860001  38.430000  38.689999  38.528584   440400\n",
       "2019-07-23  38.869999  39.189999  38.529999  39.180000  39.016541   861800\n",
       "2019-07-24  39.090000  39.509998  38.779999  39.509998  39.345161  1293800\n",
       "2019-07-25  39.770000  40.459999  39.599998  40.349998  40.181660  1909000\n",
       "2019-07-26  40.480000  40.750000  39.980000  40.410000  40.241409  1254700\n",
       "2019-07-29  40.330002  40.820000  40.090000  40.529999  40.360905  1242800\n",
       "2019-07-30  40.299999  40.549999  40.209999  40.330002  40.161743   867400\n",
       "2019-07-31  40.340000  40.470001  39.419998  39.680000  39.514454  1148000"
      ]
     },
     "execution_count": 32,
     "metadata": {},
     "output_type": "execute_result"
    }
   ],
   "source": [
    "G_stock_price_df"
   ]
  },
  {
   "cell_type": "markdown",
   "metadata": {},
   "source": [
    "## Creating a custom business day\n",
    "\n",
    "### You can define your own calendar using AbstractHolidayCalendar as shown below. USFederalHolidayCalendar is the only calendar available in pandas library and it serves as an example for those who want to write their own custom calendars. Here is the link for USFederalHolidayCalendar implementation https://github.com/pandas-dev/pandas/blob/master/pandas/tseries/holiday.py"
   ]
  },
  {
   "cell_type": "markdown",
   "metadata": {},
   "source": [
    "## Creating a holiday calendar for any country other than US"
   ]
  },
  {
   "cell_type": "code",
   "execution_count": 36,
   "metadata": {},
   "outputs": [
    {
     "data": {
      "text/plain": [
       "<CustomBusinessDay>"
      ]
     },
     "execution_count": 36,
     "metadata": {},
     "output_type": "execute_result"
    }
   ],
   "source": [
    "from pandas.tseries.holiday import AbstractHolidayCalendar,nearest_workday, Holiday\n",
    "\n",
    "class MyCustomCalendar(AbstractHolidayCalendar):\n",
    "    \"\"\"\n",
    "    My Custom Calendar:\n",
    "    \"\"\"\n",
    "\n",
    "    rules = [\n",
    "        Holiday(\"Subhamay's Birthday\", month = 7, day = 9, observance = nearest_workday)\n",
    "    ]\n",
    "\n",
    "my_calendar = CustomBusinessDay(calendar=MyCustomCalendar())\n",
    "my_calendar"
   ]
  },
  {
   "cell_type": "code",
   "execution_count": 37,
   "metadata": {
    "scrolled": true
   },
   "outputs": [
    {
     "data": {
      "text/plain": [
       "DatetimeIndex(['2020-07-06', '2020-07-07', '2020-07-08', '2020-07-10',\n",
       "               '2020-07-13', '2020-07-14', '2020-07-15'],\n",
       "              dtype='datetime64[ns]', freq='C')"
      ]
     },
     "execution_count": 37,
     "metadata": {},
     "output_type": "execute_result"
    }
   ],
   "source": [
    "pd.date_range(start='07/05/2020',end='07/15/2020',freq=my_calendar)"
   ]
  },
  {
   "cell_type": "markdown",
   "metadata": {},
   "source": [
    "# How to handle the holidays of countries like Egypt and Middle East where the Friday and Saturday are weekends"
   ]
  },
  {
   "cell_type": "code",
   "execution_count": 39,
   "metadata": {},
   "outputs": [
    {
     "data": {
      "text/plain": [
       "DatetimeIndex(['2019-12-01', '2019-12-02', '2019-12-03', '2019-12-04',\n",
       "               '2019-12-05', '2019-12-08', '2019-12-09', '2019-12-10',\n",
       "               '2019-12-11', '2019-12-12', '2019-12-15', '2019-12-16',\n",
       "               '2019-12-17', '2019-12-18', '2019-12-19', '2019-12-22',\n",
       "               '2019-12-23', '2019-12-24', '2019-12-25', '2019-12-26',\n",
       "               '2019-12-29', '2019-12-30', '2019-12-31'],\n",
       "              dtype='datetime64[ns]', freq='C')"
      ]
     },
     "execution_count": 39,
     "metadata": {},
     "output_type": "execute_result"
    }
   ],
   "source": [
    "bus_day = CustomBusinessDay(weekmask = 'Sun Mon Tue Wed Thu')\n",
    "egypt_date_range = pd.date_range(start='12/01/2019',end='12/31/2019',freq=bus_day)\n",
    "egypt_date_range"
   ]
  },
  {
   "cell_type": "markdown",
   "metadata": {},
   "source": [
    "## Adding holidays for Egypt"
   ]
  },
  {
   "cell_type": "code",
   "execution_count": 40,
   "metadata": {},
   "outputs": [
    {
     "data": {
      "text/plain": [
       "DatetimeIndex(['2019-12-01', '2019-12-02', '2019-12-03', '2019-12-05',\n",
       "               '2019-12-08', '2019-12-09', '2019-12-10', '2019-12-11',\n",
       "               '2019-12-12', '2019-12-15', '2019-12-16', '2019-12-17',\n",
       "               '2019-12-18', '2019-12-19', '2019-12-22', '2019-12-23',\n",
       "               '2019-12-24', '2019-12-25', '2019-12-26', '2019-12-29',\n",
       "               '2019-12-30', '2019-12-31'],\n",
       "              dtype='datetime64[ns]', freq='C')"
      ]
     },
     "execution_count": 40,
     "metadata": {},
     "output_type": "execute_result"
    }
   ],
   "source": [
    "bus_day = CustomBusinessDay(weekmask = 'Sun Mon Tue Wed Thu', holidays=['2019-12-04'])\n",
    "egypt_date_range = pd.date_range(start='12/01/2019',end='12/31/2019',freq=bus_day)\n",
    "egypt_date_range"
   ]
  }
 ],
 "metadata": {
  "kernelspec": {
   "display_name": "Python 3",
   "language": "python",
   "name": "python3"
  },
  "language_info": {
   "codemirror_mode": {
    "name": "ipython",
    "version": 3
   },
   "file_extension": ".py",
   "mimetype": "text/x-python",
   "name": "python",
   "nbconvert_exporter": "python",
   "pygments_lexer": "ipython3",
   "version": "3.7.4"
  },
  "latex_envs": {
   "LaTeX_envs_menu_present": true,
   "autoclose": false,
   "autocomplete": true,
   "bibliofile": "biblio.bib",
   "cite_by": "apalike",
   "current_citInitial": 1,
   "eqLabelWithNumbers": true,
   "eqNumInitial": 1,
   "hotkeys": {
    "equation": "Ctrl-E",
    "itemize": "Ctrl-I"
   },
   "labels_anchors": false,
   "latex_user_defs": false,
   "report_style_numbering": false,
   "user_envs_cfg": false
  }
 },
 "nbformat": 4,
 "nbformat_minor": 2
}
